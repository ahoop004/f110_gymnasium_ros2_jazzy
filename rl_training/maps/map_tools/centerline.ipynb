{
 "cells": [
  {
   "cell_type": "code",
   "execution_count": 1,
   "id": "db6f57ce",
   "metadata": {},
   "outputs": [],
   "source": [
    "import cv2\n",
    "import numpy as np\n",
    "import pandas as pd\n",
    "import matplotlib.pyplot as plt\n",
    "from skimage.morphology import skeletonize, remove_small_objects\n",
    "from skimage.measure import label, regionprops\n"
   ]
  },
  {
   "cell_type": "code",
   "execution_count": null,
   "id": "bb2acebc",
   "metadata": {},
   "outputs": [],
   "source": [
    "\n",
    "# 1. Load and binarize\n",
    "img = cv2.imread('/home/aaron/f110_gymnasium_ros2_jazzy/rl_training/maps/Shanghai_map.png', cv2.IMREAD_GRAYSCALE)\n",
    "_, binary = cv2.threshold(img, 127, 255, cv2.THRESH_BINARY)\n",
    "if np.sum(binary == 255) < np.sum(binary == 0):\n",
    "    binary = cv2.bitwise_not(binary)\n",
    "mask = (binary // 255).astype(bool)\n"
   ]
  },
  {
   "cell_type": "code",
   "execution_count": null,
   "id": "d8947ebb",
   "metadata": {},
   "outputs": [],
   "source": [
    "\n",
    "# 2. Skeletonize\n",
    "skeleton = skeletonize(mask)\n",
    "skeleton = remove_small_objects(skeleton, min_size=100)\n"
   ]
  },
  {
   "cell_type": "code",
   "execution_count": null,
   "id": "53347e7a",
   "metadata": {},
   "outputs": [],
   "source": [
    "\n",
    "# 3. Get all skeleton points\n",
    "ys, xs = np.where(skeleton)\n",
    "points = np.stack([xs, ys], axis=1)\n"
   ]
  },
  {
   "cell_type": "code",
   "execution_count": null,
   "id": "71e67b33",
   "metadata": {},
   "outputs": [],
   "source": [
    "\n",
    "# 4. Find the largest connected component (main loop)\n",
    "labeled = label(skeleton)\n",
    "regions = sorted(regionprops(labeled), key=lambda r: r.area, reverse=True)\n",
    "main_label = regions[0].label\n",
    "main_skeleton = (labeled == main_label)\n",
    "ys, xs = np.where(main_skeleton)\n",
    "centerline_points = np.stack([xs, ys], axis=1)\n"
   ]
  },
  {
   "cell_type": "code",
   "execution_count": null,
   "id": "3f461035",
   "metadata": {},
   "outputs": [],
   "source": [
    "\n",
    "# 5. (Optional) Order the points for a continuous path (simple nearest-neighbor chaining)\n",
    "from scipy.spatial import cKDTree\n",
    "\n",
    "def order_skeleton_points(points):\n",
    "    ordered = [points[0]]\n",
    "    used = set([0])\n",
    "    kdtree = cKDTree(points)\n",
    "    for _ in range(1, len(points)):\n",
    "        dists, idxs = kdtree.query(ordered[-1], k=min(10, len(points)))\n",
    "        if np.isscalar(idxs): idxs = [idxs]\n",
    "        found = False\n",
    "        for idx in idxs:\n",
    "            if idx not in used:\n",
    "                ordered.append(points[idx])\n",
    "                used.add(idx)\n",
    "                found = True\n",
    "                break\n",
    "        if not found:\n",
    "            break\n",
    "    return np.array(ordered)\n",
    "\n",
    "ordered_centerline = order_skeleton_points(centerline_points)\n"
   ]
  },
  {
   "cell_type": "code",
   "execution_count": null,
   "id": "28c67f5b",
   "metadata": {},
   "outputs": [],
   "source": [
    "\n",
    "# 6. Save as CSV\n",
    "df = pd.DataFrame(ordered_centerline, columns=['x', 'y'])\n",
    "df.to_csv('ordered_centerline.csv', index=False)\n",
    "print(f\"Ordered centerline points saved to ordered_centerline.csv (count: {len(ordered_centerline)})\")\n"
   ]
  },
  {
   "cell_type": "code",
   "execution_count": null,
   "id": "3b66a437",
   "metadata": {},
   "outputs": [],
   "source": [
    "\n",
    "# 7. Plot\n",
    "plt.figure(figsize=(10,10))\n",
    "plt.imshow(img, cmap='gray')\n",
    "plt.plot(ordered_centerline[:,0], ordered_centerline[:,1], 'r-', linewidth=1)\n",
    "plt.title('Extracted Ordered Centerline')\n",
    "plt.gca().invert_yaxis()\n",
    "plt.show()\n"
   ]
  }
 ],
 "metadata": {
  "kernelspec": {
   "display_name": "Python 3",
   "language": "python",
   "name": "python3"
  },
  "language_info": {
   "codemirror_mode": {
    "name": "ipython",
    "version": 3
   },
   "file_extension": ".py",
   "mimetype": "text/x-python",
   "name": "python",
   "nbconvert_exporter": "python",
   "pygments_lexer": "ipython3",
   "version": "3.12.3"
  }
 },
 "nbformat": 4,
 "nbformat_minor": 5
}
